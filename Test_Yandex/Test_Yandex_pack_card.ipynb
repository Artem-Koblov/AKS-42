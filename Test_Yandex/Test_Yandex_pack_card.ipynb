{
 "cells": [
  {
   "cell_type": "markdown",
   "metadata": {},
   "source": [
    "# Задача про колоду карт  \n"
   ]
  },
  {
   "cell_type": "code",
   "execution_count": 1,
   "metadata": {},
   "outputs": [],
   "source": [
    "import pandas as pd\n",
    "\n",
    "import random\n",
    "\n",
    "import time\n",
    "\n",
    "from tqdm import tqdm\n",
    "\n",
    "#отключаем предупреждения \n",
    "import warnings\n",
    "warnings.filterwarnings('ignore')"
   ]
  },
  {
   "cell_type": "markdown",
   "metadata": {},
   "source": [
    "Загружаем библиотеки и отключаем предупреждения.  \n",
    "### Создаём колоду карт."
   ]
  },
  {
   "cell_type": "code",
   "execution_count": 2,
   "metadata": {},
   "outputs": [
    {
     "data": {
      "text/html": [
       "<div>\n",
       "<style scoped>\n",
       "    .dataframe tbody tr th:only-of-type {\n",
       "        vertical-align: middle;\n",
       "    }\n",
       "\n",
       "    .dataframe tbody tr th {\n",
       "        vertical-align: top;\n",
       "    }\n",
       "\n",
       "    .dataframe thead th {\n",
       "        text-align: right;\n",
       "    }\n",
       "</style>\n",
       "<table border=\"1\" class=\"dataframe\">\n",
       "  <thead>\n",
       "    <tr style=\"text-align: right;\">\n",
       "      <th></th>\n",
       "      <th>chervy</th>\n",
       "      <th>piki</th>\n",
       "      <th>trefy</th>\n",
       "      <th>bubny</th>\n",
       "    </tr>\n",
       "  </thead>\n",
       "  <tbody>\n",
       "    <tr>\n",
       "      <td>0</td>\n",
       "      <td>2</td>\n",
       "      <td>2</td>\n",
       "      <td>2</td>\n",
       "      <td>2</td>\n",
       "    </tr>\n",
       "    <tr>\n",
       "      <td>1</td>\n",
       "      <td>3</td>\n",
       "      <td>3</td>\n",
       "      <td>3</td>\n",
       "      <td>3</td>\n",
       "    </tr>\n",
       "    <tr>\n",
       "      <td>2</td>\n",
       "      <td>4</td>\n",
       "      <td>4</td>\n",
       "      <td>4</td>\n",
       "      <td>4</td>\n",
       "    </tr>\n",
       "    <tr>\n",
       "      <td>3</td>\n",
       "      <td>5</td>\n",
       "      <td>5</td>\n",
       "      <td>5</td>\n",
       "      <td>5</td>\n",
       "    </tr>\n",
       "    <tr>\n",
       "      <td>4</td>\n",
       "      <td>6</td>\n",
       "      <td>6</td>\n",
       "      <td>6</td>\n",
       "      <td>6</td>\n",
       "    </tr>\n",
       "    <tr>\n",
       "      <td>5</td>\n",
       "      <td>7</td>\n",
       "      <td>7</td>\n",
       "      <td>7</td>\n",
       "      <td>7</td>\n",
       "    </tr>\n",
       "    <tr>\n",
       "      <td>6</td>\n",
       "      <td>8</td>\n",
       "      <td>8</td>\n",
       "      <td>8</td>\n",
       "      <td>8</td>\n",
       "    </tr>\n",
       "    <tr>\n",
       "      <td>7</td>\n",
       "      <td>9</td>\n",
       "      <td>9</td>\n",
       "      <td>9</td>\n",
       "      <td>9</td>\n",
       "    </tr>\n",
       "    <tr>\n",
       "      <td>8</td>\n",
       "      <td>10</td>\n",
       "      <td>10</td>\n",
       "      <td>10</td>\n",
       "      <td>10</td>\n",
       "    </tr>\n",
       "    <tr>\n",
       "      <td>9</td>\n",
       "      <td>11</td>\n",
       "      <td>11</td>\n",
       "      <td>11</td>\n",
       "      <td>11</td>\n",
       "    </tr>\n",
       "    <tr>\n",
       "      <td>10</td>\n",
       "      <td>12</td>\n",
       "      <td>12</td>\n",
       "      <td>12</td>\n",
       "      <td>12</td>\n",
       "    </tr>\n",
       "    <tr>\n",
       "      <td>11</td>\n",
       "      <td>13</td>\n",
       "      <td>13</td>\n",
       "      <td>13</td>\n",
       "      <td>13</td>\n",
       "    </tr>\n",
       "    <tr>\n",
       "      <td>12</td>\n",
       "      <td>14</td>\n",
       "      <td>14</td>\n",
       "      <td>14</td>\n",
       "      <td>14</td>\n",
       "    </tr>\n",
       "  </tbody>\n",
       "</table>\n",
       "</div>"
      ],
      "text/plain": [
       "    chervy  piki  trefy  bubny\n",
       "0        2     2      2      2\n",
       "1        3     3      3      3\n",
       "2        4     4      4      4\n",
       "3        5     5      5      5\n",
       "4        6     6      6      6\n",
       "5        7     7      7      7\n",
       "6        8     8      8      8\n",
       "7        9     9      9      9\n",
       "8       10    10     10     10\n",
       "9       11    11     11     11\n",
       "10      12    12     12     12\n",
       "11      13    13     13     13\n",
       "12      14    14     14     14"
      ]
     },
     "metadata": {},
     "output_type": "display_data"
    }
   ],
   "source": [
    "pack_cards=pd.DataFrame(\n",
    "    {\n",
    "       'chervy': list(range(2,15))\n",
    "       ,'piki': list(range(2,15))\n",
    "       ,'trefy': list(range(2,15))\n",
    "       ,'bubny': list(range(2,15))                 \n",
    "    }\n",
    "                        )\n",
    "display(pack_cards)"
   ]
  },
  {
   "cell_type": "markdown",
   "metadata": {},
   "source": [
    "Создаём колоду карт с 2ки по туза (туз - 14ть баллов).  \n",
    "\n",
    "## Вычисляем количество возможных комбинаций из 6ти карт  \n",
    "### Функция факториала"
   ]
  },
  {
   "cell_type": "code",
   "execution_count": 3,
   "metadata": {},
   "outputs": [
    {
     "data": {
      "text/plain": [
       "120"
      ]
     },
     "metadata": {},
     "output_type": "display_data"
    }
   ],
   "source": [
    "def factorial(n):\n",
    "    if n==1: return 1\n",
    "    else: return n*factorial(n-1)\n",
    "display(factorial(5))"
   ]
  },
  {
   "cell_type": "markdown",
   "metadata": {},
   "source": [
    "Создаём функцию факториала."
   ]
  },
  {
   "cell_type": "markdown",
   "metadata": {},
   "source": [
    "### Количество комбинаций из шести карт и искомая вероятность"
   ]
  },
  {
   "cell_type": "code",
   "execution_count": 4,
   "metadata": {},
   "outputs": [],
   "source": [
    "list_pack = []\n",
    "for i in pack_cards:\n",
    "    for j in pack_cards[i]:\n",
    "        list_pack.append(j)"
   ]
  },
  {
   "cell_type": "markdown",
   "metadata": {},
   "source": [
    "Переделываем датафрейм с колодой карт в лист с картами."
   ]
  },
  {
   "cell_type": "code",
   "execution_count": 5,
   "metadata": {},
   "outputs": [
    {
     "name": "stderr",
     "output_type": "stream",
     "text": [
      "100%|██████████| 36288252/36288252 [03:01<00:00, 199997.28it/s]"
     ]
    },
    {
     "name": "stdout",
     "output_type": "stream",
     "text": [
      "Вероятность из 6-ти случайных карт набрать 21-ин балл равна: 0.000228\n",
      "Алгоритму для расчёта понадобилось 3 минут.\n"
     ]
    },
    {
     "name": "stderr",
     "output_type": "stream",
     "text": [
      "\n"
     ]
    }
   ],
   "source": [
    "# функция вычисления вероятности по r значений из list_values, сумма которых равна sum_values\n",
    "def calculate_p(list_values, r, sum_values):\n",
    "    \n",
    "    # функция факториала\n",
    "    def factorial(h):\n",
    "        if h==1: return 1\n",
    "        else: return h*factorial(h-1)\n",
    "        \n",
    "    \n",
    "    # количество значений\n",
    "    n=len(list_values)\n",
    "    \n",
    "    # количество комбинаций r из n значений\n",
    "    numb=factorial(n+r-1)/factorial(r)/factorial(n-1)\n",
    "    \n",
    "    # счётчик, когда сумма r значений равна sum_values\n",
    "    cnt = 0\n",
    "    \n",
    "    # самое интересное: взял рандомно по r значений из list_values \n",
    "    # в количестве равном возможному сочетанию комбинаций r из n значений\n",
    "    for _ in tqdm(range(int(numb))): #     for _ in tqdm() для отображения прогрессбара для алгоритма\n",
    "\n",
    "    \n",
    "        if sum(random.sample(list_values,r))==sum_values:\n",
    "            cnt+=1\n",
    "            \n",
    "    # вероятность=количество раз, когда сумма r равна  sum_values / количество экспериментов\n",
    "    return cnt/numb  \n",
    "\n",
    "# искомая вероятность из 6ти случайных карт в сумме дать 21-ин балл\n",
    "a = time.time() # метка для измерения времени на расчет вероятности\n",
    "\n",
    "print('Вероятность из 6-ти случайных карт набрать 21-ин балл равна: {:6f}'.format(calculate_p(list_pack,6,21)))\n",
    "\n",
    "print('Алгоритму для расчёта понадобилось {} минуты.'.format(round((time.time()-a)/60)))"
   ]
  }
 ],
 "metadata": {
  "kernelspec": {
   "display_name": "Python 3",
   "language": "python",
   "name": "python3"
  },
  "language_info": {
   "codemirror_mode": {
    "name": "ipython",
    "version": 3
   },
   "file_extension": ".py",
   "mimetype": "text/x-python",
   "name": "python",
   "nbconvert_exporter": "python",
   "pygments_lexer": "ipython3",
   "version": "3.7.8"
  },
  "toc": {
   "base_numbering": 1,
   "nav_menu": {},
   "number_sections": true,
   "sideBar": true,
   "skip_h1_title": false,
   "title_cell": "Table of Contents",
   "title_sidebar": "Contents",
   "toc_cell": false,
   "toc_position": {},
   "toc_section_display": true,
   "toc_window_display": true
  }
 },
 "nbformat": 4,
 "nbformat_minor": 2
}
