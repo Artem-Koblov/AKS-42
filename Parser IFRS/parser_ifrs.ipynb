{
 "cells": [
  {
   "cell_type": "markdown",
   "id": "ec002912",
   "metadata": {
    "toc": true
   },
   "source": [
    "<h1>Сверка с банками и digital партнёрами<span class=\"tocSkip\"></span></h1>\n",
    "<div class=\"toc\"><ul class=\"toc-item\"><li><span><a href=\"#Инструкция\" data-toc-modified-id=\"Инструкция-1\"><span class=\"toc-item-num\">1&nbsp;&nbsp;</span>Инструкция</a></span></li><li><span><a href=\"#Сверка-реестра-для-подтверждения-контрагенту\" data-toc-modified-id=\"Сверка-реестра-для-подтверждения-контрагенту-2\"><span class=\"toc-item-num\">2&nbsp;&nbsp;</span>Сверка реестра для подтверждения контрагенту</a></span></li><li><span><a href=\"#Подготовка-реестра-для-заливки-в-отчет-по-прибыли-по-продлениям\" data-toc-modified-id=\"Подготовка-реестра-для-заливки-в-отчет-по-прибыли-по-продлениям-3\"><span class=\"toc-item-num\">3&nbsp;&nbsp;</span>Подготовка реестра для заливки в отчет по прибыли по продлениям</a></span></li><li><span><a href=\"#Подготовка-реестра-для-заливки-в-отчет-по-прибыли-от-кэшбэка\" data-toc-modified-id=\"Подготовка-реестра-для-заливки-в-отчет-по-прибыли-от-кэшбэка-4\"><span class=\"toc-item-num\">4&nbsp;&nbsp;</span>Подготовка реестра для заливки в отчет по прибыли от кэшбэка</a></span></li><li><span><a href=\"#Вывод\" data-toc-modified-id=\"Вывод-5\"><span class=\"toc-item-num\">5&nbsp;&nbsp;</span>Вывод</a></span></li></ul></div>"
   ]
  },
  {
   "cell_type": "markdown",
   "id": "2bda5951",
   "metadata": {},
   "source": [
    "# Инструкция\n",
    "  1. Код написан 07.2021 на python 3. Для работы файла необходимо, чтобы все библиотеки и модули из ячейки номер 1 были установлены. Включить VPN-соединение. У пользователя, от имени которого запускается данный файл, наверное должен быть доступ к БД Vertica, хотя данный код не подразумевает ввода какого-либо пароля.\n",
    "  2. Исходный для сверки файл Excel, полученный от партнёра необходимо положить в ту же папку, где лежит sverka_backend.ipynb (если вы читаете данный текст, значит, файл sverka_backend.ipynb вы уже положили в какую-то папку). \n",
    "  3. Переобозвать исходный файл в input.xlsx. \n",
    "  4. Открыть input.xlsx и изменить названия на **выделенные** у следующих столбцов:\n",
    "    - **date** дата транзакции (формат обязательно дд.мм.гггг). Может быть датой или текстом - home credit умудряется присылать реестры, где смешаны и те, и те типы данных в столбце с датами.\n",
    "    - **sum** сумма тарнзакции в руб, включая НДС (числовой формат)\n",
    "    - **code** артикул партнёра (можно выбрать любой столбец - дальше он никак не участвует, строчный формат)\n",
    "    - **card** маска банковской карты (строчный формат)\n",
    "    - **rrn** RRN (Reference Retrieval Number) – это уникальный идентификатор банковской транзакции, который назначается банком Эквайрером при инициализации платежа. Должен быть 12-ти значным (бывает партнёры путают местами названия столбцов в своих выгрузках, бывает нули в начале RRN удаляются, если RRN сохранены в формате чисел, а не текста, то есть лучше проверить, что формат текстовый и все нули на месте). Например, БСП присылает почему-то 13-тизначный RRN - остаётся только по номеру карты сверять. Также необходимо проверить отсутствие или удалить внизу таблицы строки типа \"Итого...\" и т.д., отличающиеся от формата основной таблицы. Если их оставить, код будет падать.\n",
    "    ХКФ и Озон присылают файлы Эксель со скрытыми листами, программа отрабатывает, если все скрытые листы пустые. Должен остаться один непустой лист.\n",
    "  5. Выполняем в меню сверху Kernel/Restart&Run all/Restart and Run all Cells. Ядро перезагрузится и выполнит все ячейки кода по порядку, начиная с первой.\n",
    "  6. С клавиатуры ввести название банка (скопировать и вставить из предложенного списка - это важно дальше для корректного отображения выручки по кэшбэкам в отчёте табло). Нажать Enter на клавиатуре.  \n",
    "  Если название будет не из списка (пробел добавлен, или по-русски одна буква), то код упадёт и предложит перезапустить программу.\n",
    "  8. Дождаться выполнения кода до конца (зависит от размеров файлов и загруженности БД - примерно пару минут) - появление в последней ячейке надписи на красном фоне: [\"Выполнение программы завершено успешно\"](https://disk.yandex.ru/i/VQo2Ai4kKnjyPg).\n",
    "  9. В папке, где лежит исходный файл, открываем для проверки файл sverka.xlsx. Там две вкладки. Как правило принимаем сверку, если отклонение меньше 5% или 100тыс руб по сумме транзакций (выбираем по меньшему, то есть если расхождение 3% и 450тыс руб, то принимаем, и если 22% и 30тыс руб, то тоже принимаем). Если отклонение больше обозначенных, то сообщаем об этом менеджеру/делопроизводителю для дальнейших выяснений с партнёром. Сверка выполняется в следующем порядке: сначала сверяем по RRN, затем по дате,сумме (может отличаться), маске карты. Если по обеим схемам не находим транзакцию в Vertica, то незасчитываем данную транзакцию. \n",
    "  10. В папке, где лежит исходный файл, находится файл reestr_prodleniya.csv, полностью подготовленный для ручной заливки в таблицу akoblov.banks_cashback_prolong в ClickHouse, на которой держится отчёт\n",
    "<code>[Выручка от продлений от покупок из реестров партнеров по кэшбэкам](https://tablo.ivi.ru/#/views/_569/sheet0?:iid=1)  \n",
    "</code>\n",
    "(Боже, храни человека, который придумал это название!).  \n",
    "  11. Дальше необходимо reestr_prodleniya.csv (можно переименовать) импортировать, клацнув правой кнопкой мыши по названию таблицы akoblov.banks_cashback_prolong  \n",
    " <code>[Скрин с DBeaver](https://disk.yandex.ru/i/UAh7BRR-ta1HwQ)\n",
    "</code>  \n",
    "  12. На этапе импорта возможны выпадения ошибок из-за несоотвествия типов данных в заливаемом файле и таблице, или различии в разделителе. Перед заливкой обязательно убедиться, что типы данных и названия колонок бьются\n",
    " <code>[Проверка соответствия названий колонок и типов данных](https://disk.yandex.ru/i/E91fpVinRJWwtQ)\n",
    "</code> \n",
    "  13. Для обновления отчёта в Табло необходимо выполнить  скрипт по шагам (три шага: 1.удаление таблицы ekapitanova.banks_prolong_copy 2.создание пустой таблицы 3.заполнение рассчётными данными на основании данных из таблицы с залитыми реестрами akoblov.banks_cashback_prolong - другого способа добавления данных без удаления для CH не знаю)\n",
    "<code>[Скрипт](https://disk.yandex.ru/d/0WJaAh4xZ2cSjA)  \n",
    "</code>  \n",
    "Целесообразно данный пункт выполнять, когда по всем партнёрам будут залиты реестры за отчётный месяц в akoblov.banks_cashback_prolong по п.10 данной инструкции.\n",
    "  14. Аналогично п.11-12 заливаем реестр по кэшбэкам reestr_cashback.csv в табличку epimenova.banks_cashback_revenue_registry_copy. На этой табличке уже висит отчет в Табло \n",
    "  <code>[Выручка по кэшбэкам через Банки-партнеры по реестрам партнеров. ](https://tablo.ivi.ru/#/views/_502/sheet0?:iid=1)  \n",
    "</code>\n",
    "  222. В процессе выполнения данного кода возможны выпадения ошибок.  \n",
    "  Например: разрыв соеднинения с БД Vertica или её перегрузкой, тогда рекомендуется попробовать исполнить код в другое время, менее загруженное для БД.  \n",
    "  Или некорректная предобработка исходного файла - см.п.2-4 настоящей Инструкции.  \n",
    "  Также рекомендуется скачать в надёжное место все файлы по ссылкам в данной инструкции, потому что неизвестно как долго проживёт Яндекс.Диск.\n",
    "\n",
    "# Сверка реестра для подтверждения контрагенту"
   ]
  },
  {
   "cell_type": "code",
   "execution_count": 1,
   "id": "1d114473",
   "metadata": {},
   "outputs": [],
   "source": [
    "import pandas as pd\n",
    "\n",
    "import numpy as np\n",
    "\n",
    "import xlsxwriter\n",
    "\n",
    "import re\n",
    "\n",
    "from datetime import datetime, timedelta, date\n",
    "\n",
    "from dateutil.relativedelta import relativedelta\n",
    "\n",
    "import vertica_python\n",
    "\n",
    "#отключаем предупреждения \n",
    "import warnings\n",
    "warnings.filterwarnings('ignore')"
   ]
  },
  {
   "cell_type": "markdown",
   "id": "e79676aa",
   "metadata": {},
   "source": [
    "Загружаем необходимые библиотеки и отключаем предупреждения."
   ]
  },
  {
   "cell_type": "code",
   "execution_count": 2,
   "id": "3694c4db",
   "metadata": {},
   "outputs": [],
   "source": [
    "# функция для получения информации о датафрейме df\n",
    "def info_df(df, see_rows=5):\n",
    "    name =[x for x in globals() if globals()[x] is df][0] #получаем имя датафрейма\n",
    "\n",
    "    print ('Датафрейм '+name)\n",
    "    display(df.head(see_rows))\n",
    "\n",
    "    display(df.describe().T)\n",
    "\n",
    "    print ('Процент пропусков по столбцам')\n",
    "    display((round((df.isna().sum()/len(df))*100,1)).astype(str) + '%')\n",
    "    \n",
    "    df.info()\n",
    "    print (50*'x','\\n')\n",
    "    print ('')\n",
    " \n",
    "# функция преобразования даты из строки в \"правильный\" формат дд.мм.гггг\n",
    "def date_true(row):\n",
    "    if '-' in row['date']:\n",
    "        return row['date'][8:10]+'.'+row['date'][5:7]+'.'+row['date'][:4]\n",
    "    else:\n",
    "        return row['date']\n",
    "\n",
    "# функция последнего дня месяца\n",
    "def last_day_of_month(date):\n",
    "    if date.month == 12:\n",
    "        return date.replace(day=31)\n",
    "    return date.replace(month=date.month+1, day=1) - timedelta(days=1)\n",
    "\n",
    "# функция первого дня месяца\n",
    "def first_day_of_month(date):\n",
    "    return date.replace(day=1)"
   ]
  },
  {
   "cell_type": "markdown",
   "id": "21818468",
   "metadata": {},
   "source": [
    "Прописываем все функции в начала, чтобы их легче искать."
   ]
  },
  {
   "cell_type": "code",
   "execution_count": null,
   "id": "16c43d73",
   "metadata": {
    "slideshow": {
     "slide_type": "subslide"
    }
   },
   "outputs": [
    {
     "name": "stdout",
     "output_type": "stream",
     "text": [
      "Введите название банка по-английски:\n",
      "home\n",
      "ozon\n",
      "sovkom\n",
      "spb\n",
      "sweetcard\n",
      "mkb\n",
      "otkrytie\n",
      "alfa\n",
      "tinkoff\n",
      "raiff\n",
      "\n",
      "ozon\n"
     ]
    }
   ],
   "source": [
    "bank_name=str(input(\"\"\"Введите название банка по-английски:\n",
    "home\n",
    "ozon\n",
    "sovkom\n",
    "spb\n",
    "sweetcard\n",
    "mkb\n",
    "otkrytie\n",
    "alfa\n",
    "tinkoff\n",
    "raiff\\n\\n\"\"\"\n",
    "))\n",
    "\n",
    "#задаём название колонок, которые будем открывать\n",
    "cols = ['date', 'sum', 'code','card','rrn']\n",
    "\n",
    "if bank_name in ['home',\n",
    "                'ozon',\n",
    "                'sovkom',\n",
    "                'spb',\n",
    "                'sweetcard',\n",
    "                'mkb',\n",
    "                'otkrytie',\n",
    "                'alfa',\n",
    "                'tinkoff',\n",
    "                'raiff',\n",
    "                ]:\n",
    "    \n",
    "    data = pd.read_excel(\n",
    "                   'input.xlsx', \n",
    "                    usecols=cols, # загружаем только нужные колонки\n",
    "                    sheet_name = None, # загружаем все листы, включая скрытые\n",
    "                    dtype={\n",
    "                        'sum': float,\n",
    "                           'date': str, 'rrn': str,'card': str,'rrn': str,'code': str}\n",
    "                        )\n",
    "    \n",
    "    # перебираем все листы загруженные листы и оставляем последний непустой \n",
    "    for i in data:\n",
    "        if data[i].empty:\n",
    "            print(\"\\033[37m\\033[41m\\033{}\\033[0m\".format('В файле input.xlsx есть скрытые пустые листы'))\n",
    "        else: \n",
    "            df = data[i]\n",
    "else:\n",
    "     print(\"\\033[37m\\033[41m\\033{}\\033[0m\".format('Неверно введено название банка. Перезапустите программу с начала.')) \n",
    "    \n",
    "info_df(df)"
   ]
  },
  {
   "cell_type": "markdown",
   "id": "453ba50a",
   "metadata": {},
   "source": [
    "Вводим название банка и отчётный месяц.  \n",
    "Октрываем файл с исходными данными.  \n",
    "Смотрим инфу по исходному файлу."
   ]
  },
  {
   "cell_type": "code",
   "execution_count": null,
   "id": "8a6aeffc",
   "metadata": {},
   "outputs": [],
   "source": [
    "print ('Количество полных дубликатов: '+df.duplicated().sum().astype(str)+' строк')\n",
    "\n",
    "# некоторые банки присылают в реестрах отрицательные суммы, что нам неинтересно\n",
    "print ('Количество возвратов и нулевых транзакций: '+df['sum'].loc[df['sum']<=0].count().astype(str)+' строк')\n",
    "\n",
    "sverka = df.drop_duplicates().query('sum>=0')"
   ]
  },
  {
   "cell_type": "markdown",
   "id": "e0817e6d",
   "metadata": {},
   "source": [
    "Удаляем полные дубликаты  строк по всем столбцам и нулевые транзакции при наличии."
   ]
  },
  {
   "cell_type": "code",
   "execution_count": null,
   "id": "950d4f28",
   "metadata": {},
   "outputs": [],
   "source": [
    "sverka.insert(0, 'bank_name', bank_name)\n",
    "display(sverka.sample(1))"
   ]
  },
  {
   "cell_type": "markdown",
   "id": "d496ebb3",
   "metadata": {},
   "source": [
    "Вставляем колонку с названием банка в первый столбец."
   ]
  },
  {
   "cell_type": "code",
   "execution_count": null,
   "id": "f3a4b180",
   "metadata": {},
   "outputs": [],
   "source": [
    "# если есть пропуски в датах или левые строчки типа Итого, удаляем\n",
    "sverka = sverka.loc[~sverka['date'].isna()]\n",
    "\n",
    "# выбираем дату из строки (может быть в двух форматах)\n",
    "sverka['date']=sverka['date'].apply(lambda x: re.findall('^\\d{2}.\\d{2}.\\d{4}|\\d{4}-\\d{2}-\\d{2}',x)[0])\n",
    "\n",
    "# преобразуем даты в \"правильный\" строчный формат    \n",
    "sverka['date']=sverka.apply(date_true, axis=1)\n",
    "# преобразуем даты в строчном формате в формат даты\n",
    "sverka['date']=sverka['date'].apply(lambda x: datetime.strptime(x,'%d.%m.%Y'))\n",
    "\n",
    "display(sverka.sort_values(by='date',ascending=False).head(3))"
   ]
  },
  {
   "cell_type": "markdown",
   "id": "27a85c9c",
   "metadata": {},
   "source": [
    "Обрезаем колонку с временем до даты."
   ]
  },
  {
   "cell_type": "code",
   "execution_count": null,
   "id": "4bc9e876",
   "metadata": {},
   "outputs": [],
   "source": [
    "# удаляем неформатные RRN\n",
    "col_rrn=sverka['rrn'].sort_values().reset_index().dropna()\n",
    "\n",
    "col_rrn['rrn']=col_rrn['rrn'].apply(lambda x: re.findall('^\\d{12}|\\D|',x)[0])\n",
    "col_rrn['check']=col_rrn['rrn'].apply(lambda x: len(re.findall('^\\d{12}|\\D|',x)[0]))\n",
    "\n",
    "col_rrn.loc[col_rrn['check']!=12,'check']=np.nan\n",
    "col_rrn=col_rrn.dropna()\n",
    "\n",
    "# делаем из столбца строку с RRN через запятую, как надо в скрипте\n",
    "ref_in=','.join(col_rrn['rrn'].astype('str'))\n",
    "\n",
    "# вставляем строку с RRN в запрос\n",
    "query_rrn = \"\"\"\n",
    "--вставить rrn (12ти значный) из реестра в in ()\n",
    "  \n",
    "select  \n",
    "\t  ref_number\n",
    "\t ,amount\n",
    "\t ,ac.account\n",
    "\t ,ac.bank_name\n",
    "from pycrement.payments p\n",
    "left join da.pycrement.accounts ac on p.account_id = ac.id\n",
    "where 2 = 2\n",
    "\tand p.ref_number::integer in ({})\n",
    "\"\"\".format(ref_in)"
   ]
  },
  {
   "cell_type": "markdown",
   "id": "4194147b",
   "metadata": {},
   "source": [
    "Вставляем rrn и формируем текст запроса."
   ]
  },
  {
   "cell_type": "code",
   "execution_count": null,
   "id": "e98ff26c",
   "metadata": {},
   "outputs": [],
   "source": [
    "# параметры подключения\n",
    "conn_info = {'host': 'vertica.vcp.digitalaccess.ru',\n",
    "             'port': 5433,\n",
    "             'user': '******', # не менять!\n",
    "             'password': '*******',    # не менять!\n",
    "             'database': '***',\n",
    "             # default throw error on invalid UTF-8 results\n",
    "             'unicode_error': 'strict',\n",
    "             # SSL is disabled by default\n",
    "             'ssl': False,\n",
    "             # using server-side prepared statements is disabled by default\n",
    "             'use_prepared_statements': False,\n",
    "             # connection timeout is not enabled by default\n",
    "             # 5 seconds timeout for a socket operation (Establishing a TCP connection or read/write operation)\n",
    "             'connection_timeout': 50000}\n",
    "  \n",
    "# подключение\n",
    "connection = vertica_python.connect(**conn_info)\n",
    "cur = connection.cursor()\n",
    "\n",
    "# извлечение и запись\n",
    "cur.execute(query_rrn)\n",
    "data_rrn_mix = pd.DataFrame(cur.fetchall())\n",
    "# на случай, если левак по картам (то есть их нет), как у Озона например\n",
    "try: \n",
    "    data_rrn_mix.columns = ['rrn','sum','card','bank_name']\n",
    "    data_rrn_mix['sum'] = data_rrn_mix['sum'].astype('float')\n",
    "    data_rrn = data_rrn_mix.loc[~data_rrn_mix['rrn'].duplicated()].reset_index(drop=True)\n",
    "except:\n",
    "    data_rrn = pd.DataFrame(columns = ['rrn','sum','card','bank_name'])"
   ]
  },
  {
   "cell_type": "markdown",
   "id": "83f79c86",
   "metadata": {},
   "source": [
    "Выгружаем из базы Vertica данные по rnn. Убираем из выгрузки дубли RRN, которые проведены по карте другого банка (такие случаи тоже замечены)."
   ]
  },
  {
   "cell_type": "code",
   "execution_count": null,
   "id": "345c7371",
   "metadata": {},
   "outputs": [],
   "source": [
    "sverka['card'] = sverka['card'].astype('str')\n",
    "sverka['num_card']=sverka['card'].apply(lambda x:re.findall('^\\d{4}',x)[0]+re.findall('\\d{4}$',x)[0])\n",
    "sverka['pan']=sverka['card'].apply(lambda x:re.findall('^\\d{4}',x)[0])\n",
    "display(sverka.head(2))"
   ]
  },
  {
   "cell_type": "markdown",
   "id": "5630ecfe",
   "metadata": {},
   "source": [
    "Получаем номера карт целым 8-мизначным числом."
   ]
  },
  {
   "cell_type": "code",
   "execution_count": null,
   "id": "e763922c",
   "metadata": {},
   "outputs": [],
   "source": [
    "date_month = sverka.loc[len(sverka)//2,'date']\n",
    "\n",
    "# делаем по три дня плюс\\минус, потому что даты транзакций чуть могут расходиться в реестре партнёра и у нас\n",
    "start_month = (first_day_of_month(date_month)-timedelta(days=3)).strftime('%Y%m%d')\n",
    "finish_month = (last_day_of_month(date_month)+timedelta(days=3)).strftime('%Y%m%d')"
   ]
  },
  {
   "cell_type": "markdown",
   "id": "0755193c",
   "metadata": {},
   "source": [
    "Получаем дату начала и окончания отчётного месяца."
   ]
  },
  {
   "cell_type": "code",
   "execution_count": null,
   "id": "7f35b9bc",
   "metadata": {},
   "outputs": [],
   "source": [
    "pan=sverka['pan'].drop_duplicates().dropna().astype('str')\n",
    "pan_in=\"display_name like '\"+\"%' or display_name like '\".join(pan)+\"%'\"\n",
    "\n",
    "if max(sverka['date'])>last_day_of_month(date_month)+timedelta(days=3):\n",
    "    print(\"\\033[37m\\033[41m\\033{}\\033[0m\".\\\n",
    "          format('Максимальная дата транзакций {} превышает 3-е число следующего месяца'.format(max(sverka['date']))))\n",
    "else:\n",
    "    query_pan=\"\"\"\n",
    "-- по номеру карты из Вертики----------------------------------------\n",
    "\t\t\t\n",
    "select replace(display_name, 'x', '*') k\n",
    "    ,date(debit_reportable_time) date\n",
    "    ,debit_b2c sum\n",
    "    ,p.ref_number rrn \n",
    "from profit.report_all_table a\n",
    "inner join profit.credit b\n",
    "      on a.credit_id=b.id\n",
    "inner join profit.payment_system_account c\n",
    "      on b.payment_system_account_id = c.id\n",
    "inner join da.classified_subsite d on a.subsite_id = d.subsite_id\n",
    "left join pycrement.payments p on p.id = b.plus_id\n",
    "where ({}) -- номера карт\n",
    "\t\tand credit_reportable_time between '{}' and '{}'\n",
    "\"\"\".format(pan_in,start_month,finish_month)"
   ]
  },
  {
   "cell_type": "markdown",
   "id": "973ac543",
   "metadata": {},
   "source": [
    "Формируем текст запроса выгрузки по номеру карты."
   ]
  },
  {
   "cell_type": "code",
   "execution_count": null,
   "id": "4a15a15d",
   "metadata": {},
   "outputs": [],
   "source": [
    "# извлечение и запись\n",
    "cur.execute(query_pan)\n",
    "data_pan = pd.DataFrame(cur.fetchall())\n",
    "\n",
    "# на случай, если ошибки по картам (то есть их нет), как у Озона например\n",
    "try: \n",
    "    data_pan.columns = ['pan','date','sum','rrn']\n",
    "    data_pan['sum'] = data_pan['sum'].astype('float')\n",
    "\n",
    "    data_pan['num_card']=data_pan['pan'].apply(lambda x:re.findall('^\\d{4}',x)[0]+re.findall('\\d{4}$',x)[0])\n",
    "    display(data_pan.sample(2))\n",
    "except:\n",
    "    data_pan = pd.DataFrame(columns = ['pan','date','sum','rrn','num_card'])"
   ]
  },
  {
   "cell_type": "markdown",
   "id": "65c23594",
   "metadata": {},
   "source": [
    "Выгружаем из БД транзакции за отчетный месяц по номерам карт."
   ]
  },
  {
   "cell_type": "code",
   "execution_count": null,
   "id": "7c16d98a",
   "metadata": {
    "scrolled": true
   },
   "outputs": [],
   "source": [
    "# добавляем к сверке суммы по RRN\n",
    "sverka_merge_rrn = sverka[['bank_name','date','sum','rrn','code','card','num_card']].merge(\n",
    "                                            data_rrn[['rrn','sum']], \n",
    "                                            on='rrn', \n",
    "                                            how='left',\n",
    "                                            suffixes=('_sverka', '_rrn'),\n",
    "                                                ).drop_duplicates().reset_index(drop=True)\n",
    "\n",
    "\n",
    "# добавляем к сверке суммы по номеру карты, сумме\n",
    "sverka_merge_card = sverka[['bank_name','date','sum','rrn','code','card','num_card']].merge(\n",
    "                                data_pan[['num_card','sum','rrn']], \n",
    "                                on=['num_card','sum'], \n",
    "                                how='left',\n",
    "                                suffixes=('_sverka', '_pan'),\n",
    "                                                ).drop_duplicates().reset_index(drop=True)\n",
    "sverka_merge_card.rename(columns={'sum': 'sum_pan'}, inplace=True)\n",
    "\n",
    "# выделяем строки, которые будем засчитывать по карте (могут быть и пустые)\n",
    "sverka_merge = pd.merge(sverka_merge_rrn.iloc[sverka_merge_rrn.loc[sverka_merge_rrn['sum_rrn'].isna()].index],\n",
    "                        sverka_merge_card.iloc[sverka_merge_rrn.loc[sverka_merge_rrn['sum_rrn'].isna()].index][['sum_pan','rrn_pan']],\n",
    "                        left_index=True, right_index=True, how='left',\n",
    "                       )\n",
    "# присоединяем к строкам, которые засчитываем по карте, строки по rrn\n",
    "sverka_merge = pd.concat([sverka_merge,\n",
    "                          sverka_merge_rrn.iloc[sverka_merge_rrn.loc[~sverka_merge_rrn['sum_rrn'].isna()].index]]).reset_index(drop=True)\n",
    "\n",
    "# отправляем ррн из сверки, транзакций которые подтвердили по карте, в столбей code\n",
    "sverka_merge.loc[~sverka_merge['rrn_pan'].isna()&~sverka_merge['rrn'].isna(),\n",
    "                 'code'] = sverka_merge.loc[~sverka_merge['rrn_pan'].isna()&~sverka_merge['rrn'].isna(), 'rrn']\n",
    "\n",
    "# перезаписываем ррн, транзакций которые подтвердили по карте, на рнн из нашей базы\n",
    "sverka_merge.loc[~sverka_merge['rrn_pan'].isna(), 'rrn'] = sverka_merge.loc[~sverka_merge['rrn_pan'].isna(), 'rrn_pan']\n",
    "\n",
    "# расставляем статус по каждой строке\n",
    "sverka_merge.loc[~sverka_merge['sum_rrn'].isna()|~sverka_merge['rrn_pan'].isna(),'gap'] = 'proven'\n",
    "sverka_merge.loc[sverka_merge['sum_rrn'].isna()&sverka_merge['rrn_pan'].isna(),'gap'] = 'n/a'\n",
    "sverka_merge = sverka_merge.sort_values(by='gap')\n",
    "display(sverka_merge.sample(2))"
   ]
  },
  {
   "cell_type": "markdown",
   "id": "cc8b7884",
   "metadata": {},
   "source": [
    "Присоединяем к сверке транзакции по rrn и по дата, карта (сумму не берём - может не биться в нашей базе).\n",
    "По каждой строке делаем вывод принимаем или нет эту позицию."
   ]
  },
  {
   "cell_type": "code",
   "execution_count": null,
   "id": "e9c8fc50",
   "metadata": {
    "scrolled": true
   },
   "outputs": [],
   "source": [
    "if sverka_merge['sum_sverka'].sum()/sverka['sum'].sum()>0.99:\n",
    "    discrepancy_perc = str(\n",
    "                        round(sverka_merge['sum_sverka'].loc[(sverka_merge['gap']=='n/a')].sum()/\\\n",
    "                        sverka_merge['sum_sverka'].sum()*100,\n",
    "                              1)\n",
    "                        )+' %'\n",
    "    discrepancy_amount = str(round(sverka_merge['sum_sverka'].loc[(sverka_merge['gap']=='n/a')].sum()))+' руб'\n",
    "\n",
    "    list_discrepancy = [discrepancy_perc,discrepancy_amount] \n",
    "\n",
    "    conclusion = pd.DataFrame(data=list_discrepancy, columns=['Расхождение по сумме транзакций составляет'])\n",
    "\n",
    "    print('Расхождение по сумме транзакций составляет {} или {}.'.format(discrepancy_amount,discrepancy_perc))\n",
    "else:\n",
    "    conclusion = pd.DataFrame(data=['Ошибка при merge() датафреймов в Питоне'], columns=['Ошибка'])"
   ]
  },
  {
   "cell_type": "code",
   "execution_count": null,
   "id": "9b23dc8d",
   "metadata": {},
   "outputs": [],
   "source": [
    "sheets = {'Сверка': sverka_merge[['bank_name','date','sum_sverka','rrn','code','card','sum_rrn','sum_pan','gap']],\n",
    "          'Заключение': conclusion, \n",
    "         }\n",
    "writer = pd.ExcelWriter('sverka_{}_in_{}.xlsx'.format(bank_name,date_month.strftime('%B')), engine='xlsxwriter')\n",
    "\n",
    "for sheet_name in sheets.keys():\n",
    "    sheets[sheet_name].to_excel(writer, sheet_name=sheet_name, index=False)\n",
    "\n",
    "writer.save()"
   ]
  },
  {
   "cell_type": "markdown",
   "id": "81652390",
   "metadata": {},
   "source": [
    "Записываем результаты сверки в файл sverka.xlsx, лежащий в той же папке, что и файл sverka_backend.ipynb.\n",
    "# Подготовка реестра для заливки в отчет по прибыли по продлениям"
   ]
  },
  {
   "cell_type": "code",
   "execution_count": null,
   "id": "d83c64ef",
   "metadata": {},
   "outputs": [],
   "source": [
    "reestr_prodleniya = sverka_merge[['bank_name','date','card','sum_sverka','code','rrn']]\n",
    "reestr_prodleniya.columns = ['bank_name','transaction_date','card_num','oper_sum','auth_code', 'rrn']\n",
    "reestr_prodleniya = reestr_prodleniya.fillna(0)\n",
    "reestr_prodleniya['transaction_date'] = pd.to_datetime(reestr_prodleniya['transaction_date'],\n",
    "                                                      format='%Y-%m-%d'\n",
    "                                                      )\n",
    "reestr_prodleniya['oper_sum'] = reestr_prodleniya['oper_sum'].astype('float32')\n",
    "reestr_prodleniya['bank_name'] = reestr_prodleniya['bank_name'].astype('str')\n",
    "reestr_prodleniya['card_num'] = reestr_prodleniya['card_num'].astype('str')\n",
    "reestr_prodleniya['auth_code'] = reestr_prodleniya['auth_code'].astype('str')\n",
    "reestr_prodleniya['rrn'] = reestr_prodleniya['rrn'].astype('str')\n",
    "\n",
    "reestr_prodleniya.to_csv('reestr_prodleniya_{}_in_{}.csv'.format(bank_name,date_month.strftime('%B')), index=False)\n",
    "\n",
    "display(reestr_prodleniya.sample(2))\n",
    "reestr_prodleniya.info()\n"
   ]
  },
  {
   "cell_type": "markdown",
   "id": "6c9bf78e",
   "metadata": {},
   "source": [
    "Создаём датафрейм реестра из файла сверки с форматированием колонок под тип .  \n",
    "Записываем файл reestr_prodleniya.csv для импортирования в БД ClickHouse groot3.akoblov.banks_cashback_prolong.\n",
    "# Подготовка реестра для заливки в отчет по прибыли от кэшбэка"
   ]
  },
  {
   "cell_type": "code",
   "execution_count": null,
   "id": "0b91a31e",
   "metadata": {
    "scrolled": false
   },
   "outputs": [],
   "source": [
    "reestr_cashback = reestr_prodleniya\n",
    "reestr_cashback.columns = ['bank_name','debit_reportable_time','CARD_NUM','debit_b2c','AUTH_CODE', 'RRN']\n",
    "\n",
    "# определеям тип подписки\n",
    "reestr_cashback.loc[reestr_cashback['debit_b2c']<399,'purchase_kind'] = 'TVOD'\n",
    "reestr_cashback.loc[reestr_cashback['debit_b2c']>=399,'purchase_kind'] = 'SVOD'\n",
    "\n",
    "# определеям длительность подписки в месяцах\n",
    "reestr_cashback.loc[reestr_cashback['debit_b2c']<=500,'purchase_duration'] = 1\n",
    "reestr_cashback.loc[(reestr_cashback['debit_b2c']<1000)&(reestr_cashback['debit_b2c']>500),'purchase_duration'] = 3\n",
    "reestr_cashback.loc[(1000<=reestr_cashback['debit_b2c'])&(1999>reestr_cashback['debit_b2c']),'purchase_duration'] = 6\n",
    "reestr_cashback.loc[reestr_cashback['debit_b2c']>=1999,'purchase_duration'] = 12\n",
    "\n",
    "# определяем начало и конец месяца для каждой позиции\n",
    "reestr_cashback['first_day_of_month'] = reestr_cashback['debit_reportable_time'].apply(lambda x: first_day_of_month(x))\n",
    "reestr_cashback['last_day_of_month'] = reestr_cashback['debit_reportable_time'].apply(lambda x: last_day_of_month(x))\n",
    "\n",
    "reestr_cashback=reestr_cashback.reset_index(drop=True)\n",
    "\n",
    "display(reestr_cashback.tail(2))"
   ]
  },
  {
   "cell_type": "markdown",
   "id": "c85de25f",
   "metadata": {},
   "source": [
    "Вычисляем вспомогательные данные для дальнейшего расчёта."
   ]
  },
  {
   "cell_type": "code",
   "execution_count": null,
   "id": "167b6ed4",
   "metadata": {},
   "outputs": [],
   "source": [
    "# создаём пустой датафрейм, куда будем записывать раскладку каждой строки реестра\n",
    "vyru4ka = pd.DataFrame(columns=['diff_month',\n",
    "                                                         'prisnannay_vyru4ka',\n",
    "                                                         'summa_pokupok',\n",
    "                                                         'otlozhennaya_na4alo',\n",
    "                                                         'otlozhennaya_konec',\n",
    "                                                        ]\n",
    "                     )\n",
    "\n",
    "# перебираем строки реестра\n",
    "for j in range(len(reestr_cashback)):\n",
    "    a=reestr_cashback.iloc[j]['purchase_duration'].astype('int')\n",
    "    b=reestr_cashback.iloc[j]['first_day_of_month']\n",
    "    c=(reestr_cashback.iloc[j]['last_day_of_month']-reestr_cashback.iloc[j]['debit_reportable_time']).days+1\n",
    "    d=(reestr_cashback.iloc[j]['last_day_of_month']-reestr_cashback.iloc[j]['first_day_of_month']).days+1\n",
    "    e=reestr_cashback.iloc[j]['debit_b2c']/reestr_cashback.iloc[j]['purchase_duration']\n",
    "    list_z = [b]\n",
    "    list_prisnannay_vyru4ka = [c/d*e]\n",
    "    list_summa_pokupok = [reestr_cashback.iloc[j]['debit_b2c']]\n",
    "    list_otlozhennaya_na4alo = [0]\n",
    "    list_otlozhennaya_konec = [list_otlozhennaya_na4alo[0]+list_summa_pokupok[0]-list_prisnannay_vyru4ka[0]]\n",
    "    list_index = [j]\n",
    "    for i in range(a):\n",
    "        list_z.append(list_z[i]+relativedelta(months=1))\n",
    "        list_prisnannay_vyru4ka.append(e)\n",
    "        list_summa_pokupok.append(0)\n",
    "        list_otlozhennaya_na4alo.append(list_otlozhennaya_konec[i])\n",
    "        list_otlozhennaya_konec.append(list_otlozhennaya_na4alo[i+1]+\\\n",
    "                                       list_summa_pokupok[i+1]-list_prisnannay_vyru4ka[i+1])\n",
    "        list_index.append(list_index[0])\n",
    "    list_prisnannay_vyru4ka[-1]=reestr_cashback.iloc[j]['debit_b2c']-sum(list_prisnannay_vyru4ka[0:-1])\n",
    "    list_otlozhennaya_konec[-1]=0\n",
    "\n",
    "    cv = pd.DataFrame(list(zip(list_z,\n",
    "                               list_prisnannay_vyru4ka,\n",
    "                               list_summa_pokupok,\n",
    "                               list_otlozhennaya_na4alo,\n",
    "                               list_otlozhennaya_konec,\n",
    "                               )\n",
    "                          ), index=list_index, columns=['diff_month',\n",
    "                                                         'prisnannay_vyru4ka',\n",
    "                                                         'summa_pokupok',\n",
    "                                                         'otlozhennaya_na4alo',\n",
    "                                                         'otlozhennaya_konec',\n",
    "                                                        ]\n",
    "                     )\n",
    "    \n",
    "    vyru4ka = pd.concat([vyru4ka,cv])    \n",
    "    \n",
    "reestr_cashback_full = pd.merge(reestr_cashback, vyru4ka, left_index=True, right_index=True, how='left')\n",
    "\n",
    "display(reestr_cashback_full.sample(2))"
   ]
  },
  {
   "cell_type": "markdown",
   "id": "905a5a84",
   "metadata": {},
   "source": [
    "Циклом проходим по каждой строке, получая на выходе датафрейм с четырьмя финансовыми показателями."
   ]
  },
  {
   "cell_type": "code",
   "execution_count": null,
   "id": "00c8730e",
   "metadata": {},
   "outputs": [],
   "source": [
    "reestr_cashback_out = reestr_cashback_full\n",
    "\n",
    "# заполняем недостающие данные\n",
    "reestr_cashback_out['PARTNER_ID'] = reestr_cashback_out['AUTH_CODE']\n",
    "\n",
    "# отбираем нужные колонки\n",
    "reestr_cashback_out = reestr_cashback_out[['bank_name','purchase_kind','debit_b2c','purchase_duration',\n",
    "                                             'debit_reportable_time','RRN','AUTH_CODE','CARD_NUM',\n",
    "                                             'PARTNER_ID','diff_month','otlozhennaya_na4alo',\n",
    "                                             'summa_pokupok','prisnannay_vyru4ka','otlozhennaya_konec']]\n",
    "\n",
    "# переименовываем колонки\n",
    "reestr_cashback_out.columns = ['bank_name','purchase_kind','debit_b2c','purchase_duration',\n",
    "                                             'debit_reportable_time','rrn','auth_code','card_num',\n",
    "                                             'partner_id','report_month','rev_part_start','amount',\n",
    "                                             'rev_part','rev_part_finish']\n",
    "\n",
    "# меняем формат данных в каждой колонке\n",
    "reestr_cashback_out = reestr_cashback_out.fillna(0)\n",
    "reestr_cashback_out['debit_reportable_time'] = pd.to_datetime(reestr_cashback_out['debit_reportable_time'],\n",
    "                                                      format='%Y-%m-%d'\n",
    "                                                      )\n",
    "reestr_cashback_out['report_month'] = pd.to_datetime(reestr_cashback_out['report_month'],\n",
    "                                                      format='%Y-%m-%d'\n",
    "                                                      )\n",
    "\n",
    "reestr_cashback_out['debit_b2c'] = reestr_cashback_out['debit_b2c'].astype('float32')\n",
    "reestr_cashback_out['rev_part_start'] = reestr_cashback_out['rev_part_start'].astype('float32')\n",
    "reestr_cashback_out['amount'] = reestr_cashback_out['amount'].astype('float32')\n",
    "reestr_cashback_out['rev_part'] = reestr_cashback_out['rev_part'].astype('float32')\n",
    "reestr_cashback_out['rev_part_finish'] = reestr_cashback_out['rev_part_finish'].astype('float32')\n",
    "reestr_cashback_out['purchase_duration'] = reestr_cashback_out['purchase_duration'].astype('int32')\n",
    "\n",
    "reestr_cashback_out['bank_name'] = reestr_cashback_out['bank_name'].astype('str')\n",
    "reestr_cashback_out['purchase_kind'] = reestr_cashback_out['purchase_kind'].astype('str')\n",
    "reestr_cashback_out['rrn'] = reestr_cashback_out['rrn'].astype('str')\n",
    "reestr_cashback_out['auth_code'] = reestr_cashback_out['auth_code'].astype('str')\n",
    "reestr_cashback_out['card_num'] = reestr_cashback_out['card_num'].astype('str')\n",
    "reestr_cashback_out['partner_id'] = reestr_cashback_out['partner_id'].astype('str')\n",
    "\n",
    "# записываем результат в csv, отбрасывая нули\n",
    "reestr_cashback_out = reestr_cashback_out.query('rev_part_start!=0 or amount!=0 or rev_part!=0 or rev_part_finish!=0')\n",
    "reestr_cashback_out.to_csv('reestr_cashback_{}_in_{}.csv'.format(bank_name,date_month.strftime('%B')), index=False)\n",
    "\n",
    "display(reestr_cashback_out.sample(2))\n",
    "reestr_cashback_out.info()"
   ]
  },
  {
   "cell_type": "markdown",
   "id": "bba06b52",
   "metadata": {},
   "source": [
    "# Вывод"
   ]
  },
  {
   "cell_type": "code",
   "execution_count": null,
   "id": "3592b71b",
   "metadata": {},
   "outputs": [],
   "source": [
    "print(\"\\033[37m\\033[41m\\033{}\".format('Выполнение программы завершено успешно'))"
   ]
  }
 ],
 "metadata": {
  "kernelspec": {
   "display_name": "Python 3",
   "language": "python",
   "name": "python3"
  },
  "language_info": {
   "codemirror_mode": {
    "name": "ipython",
    "version": 3
   },
   "file_extension": ".py",
   "mimetype": "text/x-python",
   "name": "python",
   "nbconvert_exporter": "python",
   "pygments_lexer": "ipython3",
   "version": "3.9.5"
  },
  "toc": {
   "base_numbering": 1,
   "nav_menu": {},
   "number_sections": true,
   "sideBar": true,
   "skip_h1_title": false,
   "title_cell": "Сверка с банками и digital партнёрами",
   "title_sidebar": "Содержание",
   "toc_cell": true,
   "toc_position": {
    "height": "calc(100% - 180px)",
    "left": "10px",
    "top": "150px",
    "width": "256px"
   },
   "toc_section_display": true,
   "toc_window_display": true
  }
 },
 "nbformat": 4,
 "nbformat_minor": 5
}
